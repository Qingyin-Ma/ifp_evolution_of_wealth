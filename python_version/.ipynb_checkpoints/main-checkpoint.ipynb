{
 "cells": [
  {
   "cell_type": "markdown",
   "metadata": {},
   "source": [
    "## Long Run Mean Growth Rates for Discount and Return Processes"
   ]
  },
  {
   "cell_type": "markdown",
   "metadata": {},
   "source": [
    "#### Qingyin Ma, John Stachurski and Alexis Akira Toda"
   ]
  },
  {
   "cell_type": "code",
   "execution_count": 1,
   "metadata": {},
   "outputs": [],
   "source": [
    "import numpy as np\n",
    "from scipy.linalg import eig, eigvals\n",
    "from scipy.stats import norm\n",
    "import matplotlib.pyplot as plt\n",
    "from matplotlib import cm\n",
    "import quantecon as qe"
   ]
  },
  {
   "cell_type": "code",
   "execution_count": 2,
   "metadata": {},
   "outputs": [],
   "source": [
    "def tauchen(mu, rho, sigma_u, b=0.0, N=5, n_std=3):\n",
    "    \"\"\"\n",
    "    Using Tauchen's method to discretization to compute the Markov \n",
    "    matrix associated with the linear Gaussian AR(1) process\n",
    "\n",
    "        y_{t+1} = b + rho * y_t + u_{t+1}, \n",
    "        {u_t} ~iid N(0, sigma_u^2).\n",
    "\n",
    "    Parameters\n",
    "    ----------\n",
    "    b : scalar(float)\n",
    "        The constant term of {y_t}\n",
    "    rho : scalar(float)\n",
    "        The autocorrelation coefficient\n",
    "    sigma_u : scalar(float)\n",
    "        The standard deviation of {u_t}\n",
    "    N : scalar(int), optional(default=7)\n",
    "        The number of states to use in the approximation\n",
    "    n_std : scalar(int), optional(default=3)\n",
    "        The number of standard deviations to approximate out to\n",
    "    \n",
    "    Returns\n",
    "    -------\n",
    "    states : array_like(float, ndim=1)\n",
    "        The state space of the discretized process\n",
    "    P : array_like(float, ndim=2)\n",
    "        The Markov transition matrix where P[i, j] is the probability\n",
    "        of transitioning from x[i] to x[j]\n",
    "\n",
    "    \"\"\"\n",
    "    # CDF of the normal distribution\n",
    "    F = norm(loc=0, scale=sigma_u).cdf \n",
    "\n",
    "    # the stationary standard deviation of {y_t}\n",
    "    std_y = np.sqrt(sigma_u**2 / (1-rho**2))\n",
    "\n",
    "    # distance from the center\n",
    "    x_bar = n_std * std_y\n",
    "\n",
    "    # discretized state space (mean normalized)\n",
    "    x = np.linspace(-x_bar, x_bar, N)\n",
    "\n",
    "    step = x[1] - x[0]\n",
    "    half_step = 0.5 * step\n",
    "    P = np.empty((N, N))\n",
    "\n",
    "    for i in range(N):\n",
    "        P[i, 0] = F(x[0] - rho * x[i] + half_step)\n",
    "        P[i, N-1] = 1 - F(x[N-1] - rho * x[i] - half_step)\n",
    "        for j in range(1, N-1):\n",
    "            z = x[j] - rho * x[i]\n",
    "            P[i, j] = F(z + half_step) - F(z - half_step)\n",
    "    \n",
    "    # renormalize the matrix to avoid rounding errors\n",
    "    row_sums = P.sum(axis=1)\n",
    "    P = P / row_sums[:, np.newaxis]\n",
    "    \n",
    "    # center process around its mean: mu / (1 - rho)\n",
    "    states = mu / (1 - rho) + x \n",
    "\n",
    "    return states, P"
   ]
  },
  {
   "cell_type": "markdown",
   "metadata": {},
   "source": [
    "## Random Discounting\n"
   ]
  },
  {
   "cell_type": "code",
   "execution_count": 3,
   "metadata": {},
   "outputs": [],
   "source": [
    "class RandomDiscounting:\n",
    "    \"\"\"\n",
    "    The AR(1) random discounting model.\n",
    "    \"\"\"\n",
    "    def __init__(self, \n",
    "                 μ=0.99,    # stationary mean of {β_t}\n",
    "                 ρ=0.992,   # autocorrelation coefficient of {β_t}\n",
    "                 σ=0.006,   # standard deviation of {β_t}\n",
    "                 N=15):     # number of states of the discretized {β_t} process      \n",
    "        self.μ, self.ρ, self.σ, self.N = μ, ρ, σ, N \n",
    "        \n",
    "        # discretize {β_t} process\n",
    "        # self.Z_β, self.P = tauchen((1 - ρ) * μ, ρ, np.sqrt(1 - ρ**2) * σ, N=N)\n",
    "        mc = qe.rouwenhorst(N, (1 - ρ) * μ, np.sqrt(1 - ρ**2) * σ, ρ)  \n",
    "        self.Z_β, self.P = mc.state_values, mc.P\n",
    "\n",
    "    def Gβ(self):\n",
    "        \"\"\"\n",
    "        Evaluate the long-run average growth rate of {β_t}\n",
    "        \"\"\"\n",
    "        Z_β, P = self.Z_β, self.P \n",
    "        \n",
    "        D_β = np.diag(Z_β) \n",
    "        L_β = P @ D_β         \n",
    "        G_β = max(np.abs(eigvals(L_β)))  # G_β = r(L_β)\n",
    "        return G_β"
   ]
  },
  {
   "cell_type": "code",
   "execution_count": 4,
   "metadata": {},
   "outputs": [],
   "source": [
    "rd = RandomDiscounting()"
   ]
  },
  {
   "cell_type": "code",
   "execution_count": 5,
   "metadata": {},
   "outputs": [
    {
     "data": {
      "text/plain": [
       "0.9943155894974464"
      ]
     },
     "execution_count": 5,
     "metadata": {},
     "output_type": "execute_result"
    }
   ],
   "source": [
    "rd.Gβ()"
   ]
  },
  {
   "cell_type": "code",
   "execution_count": 6,
   "metadata": {},
   "outputs": [
    {
     "data": {
      "text/plain": [
       "array([0.96755006, 0.97075719, 0.97396433, 0.97717146, 0.9803786 ,\n",
       "       0.98358573, 0.98679287, 0.99      , 0.99320713, 0.99641427,\n",
       "       0.9996214 , 1.00282854, 1.00603567, 1.00924281, 1.01244994])"
      ]
     },
     "execution_count": 6,
     "metadata": {},
     "output_type": "execute_result"
    }
   ],
   "source": [
    "rd.Z_β"
   ]
  },
  {
   "cell_type": "code",
   "execution_count": 7,
   "metadata": {},
   "outputs": [
    {
     "data": {
      "image/png": "[encoded data removed]",
      "text/plain": [
       "<Figure size 432x288 with 1 Axes>"
      ]
     },
     "metadata": {
      "needs_background": "light"
     },
     "output_type": "display_data"
    }
   ],
   "source": [
    "M = 50\n",
    "mu_seq = np.linspace(0.94, 1.04, M)\n",
    "out = np.empty(M)\n",
    "for i in range(M):\n",
    "    rd = RandomDiscounting(μ=mu_seq[i])\n",
    "    out[i] = rd.Gβ()\n",
    "\n",
    "fig, ax = plt.subplots()\n",
    "ax.plot(mu_seq, out)\n",
    "plt.show()"
   ]
  },
  {
   "cell_type": "markdown",
   "metadata": {},
   "source": [
    "A function for generating contour plots."
   ]
  },
  {
   "cell_type": "code",
   "execution_count": 8,
   "metadata": {},
   "outputs": [],
   "source": [
    "def contour_Gβ(ρ_min=0.96,       # grid point of minimum ρ value\n",
    "               ρ_max=0.99,    # grid point of maximum ρ value\n",
    "               ρ_size=50,       # size of grid points for ρ \n",
    "               σ_min=0.01,    # grid point of minimum σ value\n",
    "               σ_max=0.015,       # grid point of maximum σ value\n",
    "               σ_size=50):      # number of grid points for σ\n",
    "    \"\"\"\n",
    "    Evaluate G_β for a class of ρ and σ values.\n",
    "    \"\"\"\n",
    "    ρ_grid = np.linspace(ρ_min, ρ_max, ρ_size)  # grid points for ρ\n",
    "    σ_grid = np.linspace(σ_min, σ_max, σ_size)  # grid points for σ\n",
    "    \n",
    "    Gβ_matrix = np.empty((ρ_size, σ_size))  # create empty matrix to store G_β values\n",
    "    \n",
    "    for (i_ρ, ρ) in enumerate(ρ_grid):\n",
    "        for (i_σ, σ) in enumerate(σ_grid):\n",
    "            rd = RandomDiscounting(ρ=ρ, σ=σ)\n",
    "            Gβ_matrix[i_ρ, i_σ] = rd.Gβ()\n",
    "    \n",
    "    return Gβ_matrix, ρ_grid, σ_grid"
   ]
  },
  {
   "cell_type": "code",
   "execution_count": 9,
   "metadata": {},
   "outputs": [],
   "source": [
    "Gβ_matrix, ρ_grid, σ_grid = contour_Gβ(ρ_size=12, σ_size=12)"
   ]
  },
  {
   "cell_type": "markdown",
   "metadata": {},
   "source": [
    "#### Make contour plot of G_β\n"
   ]
  },
  {
   "cell_type": "code",
   "execution_count": 10,
   "metadata": {},
   "outputs": [
    {
     "data": {
      "image/png": "[encoded data removed]",
      "text/plain": [
       "<Figure size 720x432 with 2 Axes>"
      ]
     },
     "metadata": {
      "needs_background": "light"
     },
     "output_type": "display_data"
    }
   ],
   "source": [
    "fig, ax = plt.subplots(figsize=(10,6))\n",
    "\n",
    "Xβ, Yβ = np.meshgrid(ρ_grid, σ_grid)\n",
    "\n",
    "# hide high values in Gβ_matrix \n",
    "Zβ = Gβ_matrix\n",
    "Zβ[Zβ > 1.5] = np.nan\n",
    "\n",
    "CSβ_f=ax.contourf(Xβ, Yβ, Zβ.T, alpha=0.4)\n",
    "plt.colorbar(CSβ_f, ax=ax)\n",
    "\n",
    "levels=[1.0]\n",
    "\n",
    "CSβ = ax.contour(Xβ, Yβ, Gβ_matrix.T, colors='k', \n",
    "                 levels=levels)\n",
    "\n",
    "ax.clabel(CSβ, inline=1, fontsize=15, fmt=\"%1.2f\")\n",
    "\n",
    "ax.set_xlabel(\"$\\\\rho$\", fontsize=20)\n",
    "ax.set_ylabel(\"$\\sigma$\", fontsize=20)\n",
    "\n",
    "plt.xticks(fontsize=15)\n",
    "plt.yticks(fontsize=15)\n",
    "\n",
    "plt.savefig('gb.pdf')\n",
    "plt.show()"
   ]
  },
  {
   "cell_type": "code",
   "execution_count": null,
   "metadata": {},
   "outputs": [],
   "source": []
  },
  {
   "cell_type": "markdown",
   "metadata": {},
   "source": [
    "# Verifying the Stability Conditions\n",
    "\n",
    "### The model is as follows:\n",
    "\n",
    "> $\\log R_t = \\mu_t + \\sigma_t \\zeta_t$,\n",
    " $\\, \\{\\zeta_t\\} \\overset{iid}{\\sim} N(0,1)$\n",
    " <br>\n",
    " $\\mu_t = \\bar{\\mu} (1 - \\rho_\\mu) + \\rho_\\mu \\mu_{t-1} \n",
    "    + \\upsilon_t^\\mu$, \n",
    "  $\\, (\\upsilon_t^\\mu) \\overset{iid}{\\sim} N(0, \\delta_\\mu^2)$\n",
    " <br>\n",
    " $\\log \\sigma_t = \\bar{\\sigma} (1 - \\rho_\\sigma) \n",
    "    + \\rho_\\sigma \\log \\sigma_{t-1} \n",
    "    + \\upsilon_t^\\sigma$,\n",
    "  $\\, \\{\\upsilon_t^\\sigma\\} \\overset{iid}{\\sim} N(0, \\delta_\\sigma^2)$\n",
    "\n",
    "We use Tauchen's method to discretize $\\{\\mu_t\\}$ and $\\{\\sigma_t\\}$ into finite-state Markov chains,\n",
    "<br>\n",
    "with state spaces $\\mathsf{Z_\\mu}$ and $\\mathsf{Z_\\sigma}$, respectively.\n",
    "\n",
    "### Define the following:\n",
    "\n",
    "- $\\mathsf{Z}_\\mu := \\{i_1, \\cdots, i_M \\}, \n",
    "   \\quad \n",
    "   \\mathsf{Z}_\\sigma := \\{ j_1, \\cdots, j_N \\}$\n",
    "   \n",
    "- $D_\\mu := \\text{diag} \n",
    "            \\left(\n",
    "                \\text{e}^{i_1}, \\cdots, \\text{e}^{i_M} \n",
    "            \\right), \n",
    "   \\quad\n",
    "   D_\\sigma := \\text{diag} \n",
    "               \\left(\n",
    "                   \\text{e}^{\\, j_1^2 / 2}, \n",
    "                   \\cdots, \n",
    "                   \\text{e}^{\\, j_N^2 / 2} \n",
    "               \\right)$\n",
    "   \n",
    "- $V_\\mu := \\left( \n",
    "                \\text{e}^{(1 - \\gamma) i_1}, \n",
    "                \\cdots, \n",
    "                \\text{e}^{(1 - \\gamma) i_M} \n",
    "            \\right)',\n",
    "   \\quad\n",
    "   V_\\sigma := \\left( \n",
    "                   \\text{e}^{(1 - \\gamma)^2 j_1^2 / 2}, \n",
    "                   \\cdots, \n",
    "                   \\text{e}^{(1 - \\gamma)^2 j_N^2 / 2} \n",
    "               \\right)'$\n",
    "\n",
    "### Sufficient conditions for stability:\n",
    "\n",
    "\\begin{equation}\n",
    "    \\beta \\, r(P_\\mu D_\\mu) \\cdot r(P_\\sigma D_\\sigma) < 1  \n",
    "\\end{equation}\n",
    "\n",
    "\\begin{equation}\n",
    "    \\kappa := \\beta \\, \\| P_\\mu V_\\mu \\| \\cdot \\| P_\\sigma V_\\sigma \\| < 1\n",
    "\\end{equation}\n",
    "\n",
    "\\begin{equation}\n",
    "    r(P_\\mu D_\\mu) \\cdot r(P_\\sigma D_\\sigma) \\cdot \\kappa^{1 / \\gamma} < 1\n",
    "\\end{equation}\n",
    "\n",
    "where\n",
    "- $\\| \\mathbf{x} \\|$ denotes the largest modulus of all the elements in vector $\\mathbf{x}$.\n",
    "- $r(A)$ is the spectral radius of matrix $A$, i.e., the largest modulus of all the eigenvalues of A."
   ]
  },
  {
   "cell_type": "code",
   "execution_count": null,
   "metadata": {},
   "outputs": [],
   "source": []
  },
  {
   "cell_type": "markdown",
   "metadata": {},
   "source": [
    "## Model I. Constant $\\{ \\mu_t\\}$ process\n",
    "\n",
    "The model reduces to:\n",
    "\n",
    "> $\\log R_t = \\mu + \\sigma_t \\zeta_t$, \n",
    " $\\, \\{\\zeta_t\\} \\overset{iid}{\\sim} N(0,1)$\n",
    " <br>\n",
    " $\\log \\sigma_t = \\bar{\\sigma} (1 - \\rho_\\sigma) \n",
    "    + \\rho_\\sigma \\log \\sigma_{t-1} \n",
    "    + \\upsilon_t^\\sigma$,\n",
    "  $\\, \\{\\upsilon_t^\\sigma\\} \\overset{iid}{\\sim} N(0, \\delta_\\sigma^2)$\n",
    "  \n",
    "- $\\mu = \\bar \\mu$ is the stationary mean of the AR(1) process $\\{\\mu_t\\}$."
   ]
  },
  {
   "cell_type": "code",
   "execution_count": null,
   "metadata": {},
   "outputs": [],
   "source": []
  },
  {
   "cell_type": "code",
   "execution_count": 11,
   "metadata": {},
   "outputs": [],
   "source": [
    "class IFP_StochasticVolatility:\n",
    "    \"\"\"\n",
    "    Model I. Stochastic wealth returns with stochastic volatility.\n",
    "    \"\"\"\n",
    "    def __init__(self, β=0.95,    # the discount factor\n",
    "                 γ=1.5,           # the relative risk aversion coefficient\n",
    "                 μ=0.0281,        # mean parameter related to {R_t}\n",
    "                 σ_bar=-3.2556,   # stationary mean of the AR(1) process {σ_t}\n",
    "                 ρ_σ=0.2895,      # autoregressive coefficient of the AR(1) process {σ_t}\n",
    "                 δ_σ=0.1896,      # standard deviation of the {υσ_t} process\n",
    "                 K=5,             # number of states of the discretized {σ_t} process\n",
    "                 verbose=False):\n",
    "        self.β, self.γ, self.K, self.verbose = β, γ, K, verbose\n",
    "        self.μ, self.σ_bar, self.ρ_σ, self.δ_σ = μ, σ_bar, ρ_σ, δ_σ\n",
    "        \n",
    "        # discretize {σ_t} process\n",
    "        # self.Z_σ, self.P_σ = tauchen(self.σ_bar*(1-self.ρ_σ), self.ρ_σ, self.δ_σ, N=self.K)\n",
    "        mc = qe.rouwenhorst(K, σ_bar*(1-ρ_σ), δ_σ, ρ_σ)\n",
    "        self.Z_σ, self.P_σ = mc.state_values, mc.P\n",
    "\n",
    "        self.Z_σ = np.exp(self.Z_σ)\n",
    "\n",
    "    def stability_test(self):\n",
    "        \"\"\"\n",
    "        Stability test of the model economy. \n",
    "        \"\"\"\n",
    "        β, γ, verbose = self.β, self.γ, self.verbose\n",
    "        μ, Z_σ, P_σ = self.μ, self.Z_σ, self.P_σ\n",
    "        \n",
    "        # ===== long-run average growth rate of {R_t} ===== #\n",
    "        D_R = np.diag(np.exp(μ + Z_σ**2 / 2))\n",
    "        if D_R.max() == np.inf:  \n",
    "            G_R = np.nan  \n",
    "        else:\n",
    "            L_R = np.matmul(P_σ, D_R)        # L_R = P D_R\n",
    "            G_R = max(np.abs(eig(L_R)[0]))   # G_R = r(L_R) \n",
    "        \n",
    "        # ============= stability test ============= # \n",
    "        D_μ = np.exp(μ)\n",
    "        D_σ = np.diag(np.exp(Z_σ**2 / 2.))\n",
    "        \n",
    "        V_μ = np.exp((1. - γ) * μ)\n",
    "        V_σ = np.exp(((1. - γ)**2) * (Z_σ**2) / 2.)\n",
    "        \n",
    "        if D_σ.max()==np.inf or V_σ.max()==np.inf:\n",
    "            lhs_cond1, lhs_cond2, lhs_cond3 = np.nan, np.nan, np.nan\n",
    "        else:\n",
    "            # r(P_μ D_μ) r(P_σ D_σ)\n",
    "            spec_rad = D_μ * max(eig(np.matmul(P_σ, D_σ))[0])\n",
    "            # β r(P_μ D_μ) r(P_σ D_σ) \n",
    "            lhs_cond1 = β * spec_rad\n",
    "            # κ := β \\|P_μ V_μ \\| \\|P_σ V_σ\\|\n",
    "            lhs_cond2 = β * V_μ * max(np.matmul(P_σ, V_σ))\n",
    "            # r(P_μ D_μ) r(P_σ D_σ) κ^{1/γ}\n",
    "            lhs_cond3 = spec_rad * (lhs_cond2**(1/γ))\n",
    "        \n",
    "        # sufficient conditions for stability \n",
    "        cond1 = (lhs_cond1 < 1.)\n",
    "        cond2 = (lhs_cond2 < 1.)\n",
    "        cond3 = (lhs_cond3 < 1.)\n",
    "        stability = (cond1 and cond2 and cond3)\n",
    "        \n",
    "        if verbose:\n",
    "            if cond1 and cond2 and cond3:\n",
    "                print(\"\")\n",
    "                print(\"Stability conditions are verified!\")\n",
    "                print(\"\")\n",
    "                print(\"Ready for the next step!\")\n",
    "                print(\"\")\n",
    "            else:\n",
    "                print(\"\")\n",
    "                print(\"Error!!!\")\n",
    "                print(\"\")\n",
    "                print(\"Stability conditions are violated!\")\n",
    "                print(\"\")\n",
    "                print(\"Adjust parameter values!\")\n",
    "                print(\"\")\n",
    "            print(\"------------------------------------\")\n",
    "            print(\"G_R = \", G_R)\n",
    "            print(\"\")\n",
    "            print(\"Condition 1: \", lhs_cond1)\n",
    "            print(\"\")\n",
    "            print(\"Condition 2: \", lhs_cond2)\n",
    "            print(\"\")\n",
    "            print(\"Condition 3: \", lhs_cond3)\n",
    "            print(\"------------------------------------\")\n",
    "            print(\"\")\n",
    "                \n",
    "        return G_R, stability"
   ]
  },
  {
   "cell_type": "code",
   "execution_count": null,
   "metadata": {},
   "outputs": [],
   "source": []
  },
  {
   "cell_type": "code",
   "execution_count": 12,
   "metadata": {},
   "outputs": [
    {
     "name": "stderr",
     "output_type": "stream",
     "text": [
      "C:\\Users\\Public\\software\\Anaconda3\\lib\\site-packages\\ipykernel_launcher.py:55: RuntimeWarning: overflow encountered in cdouble_scalars\n"
     ]
    }
   ],
   "source": [
    "# stability range\n",
    "def stability_range_sv(ρ_σ_min=0.0,     # grid point of minimum ρ_σ value\n",
    "                        ρ_σ_max=0.99,   # grid point of maximum ρ_σ value\n",
    "                        ρ_σ_size=50,    # size of grid points for ρ_σ\n",
    "                        δ_σ_min=1e-3,   # grid point of minimum δ_σ value\n",
    "                        δ_σ_max=1.4,    # grid point of minimum δ_σ value\n",
    "                        δ_σ_size=50):   # size of grid points for δ_σ\n",
    "    \n",
    "    ρ_σ_grid = np.linspace(ρ_σ_min, ρ_σ_max, ρ_σ_size)  # grid points for ρ_σ\n",
    "    δ_σ_grid = np.linspace(δ_σ_min, δ_σ_max, δ_σ_size)  # grid points for δ_σ\n",
    "    \n",
    "    info_matrix = np.empty((ρ_σ_size, δ_σ_size))  # create empty matrix to store stability test results\n",
    "    GR_matrix = np.empty((ρ_σ_size, δ_σ_size))    # create empty matrix to store G_R values\n",
    "    \n",
    "    for (i_ρ, ρ) in enumerate(ρ_σ_grid):\n",
    "        for (i_σ, σ) in enumerate(δ_σ_grid):\n",
    "            ifp_svr = IFP_StochasticVolatility(ρ_σ=ρ, δ_σ=σ)\n",
    "            GR_matrix[i_ρ,i_σ], info_matrix[i_ρ,i_σ] = ifp_svr.stability_test()\n",
    "    \n",
    "    return GR_matrix, info_matrix, ρ_σ_grid, δ_σ_grid\n",
    "\n",
    "GR_matrix, info_matrix, ρ_σ_grid, δ_σ_grid = stability_range_sv(ρ_σ_size=100, δ_σ_size=100)"
   ]
  },
  {
   "cell_type": "code",
   "execution_count": null,
   "metadata": {},
   "outputs": [],
   "source": []
  },
  {
   "cell_type": "code",
   "execution_count": 13,
   "metadata": {},
   "outputs": [
    {
     "data": {
      "image/png": "[encoded data removed]",
      "text/plain": [
       "<Figure size 576x432 with 1 Axes>"
      ]
     },
     "metadata": {
      "needs_background": "light"
     },
     "output_type": "display_data"
    }
   ],
   "source": [
    "# find the threshold of stability range \n",
    "idx = np.minimum(np.sum(info_matrix, axis=1), len(δ_σ_grid)-1) \n",
    "idx = idx.astype(int)     # threshold index of the δ_σ grid points\n",
    "δ_thresh = δ_σ_grid[idx]  # threshold δ_σ values \n",
    "\n",
    "# Plot the stability range\n",
    "fig, ax = plt.subplots(figsize=(8,6))\n",
    "\n",
    "ax.plot(ρ_σ_grid, δ_thresh, label='stability threshold', lw=2.5)\n",
    "\n",
    "ax.set_xlabel(r'$\\rho_\\sigma$', size=20)\n",
    "ax.set_ylabel(r'$\\delta_\\sigma$', size=20)\n",
    "ax.set_xlim((0.0, 1.0))\n",
    "ax.set_ylim((0.0, 1.4))\n",
    "#ax.set_title('Model 1: γ=%i' %γ, size=20)\n",
    "plt.xticks(fontsize=15)\n",
    "plt.yticks([0.2, 0.4, 0.6, 0.8, 1.0, 1.2, 1.4], fontsize=15)\n",
    "\n",
    "font = {'family': 'sans-serif',\n",
    "        'color':  'black',\n",
    "        'weight': 'normal',\n",
    "        'size': 20,\n",
    "        }\n",
    "\n",
    "ax.text(0.35, 0.5, 'stable', fontdict=font)\n",
    "#ax.text(0.55, 1.0, 'unstable', fontdict=font)\n",
    "\n",
    "ax.plot([0.2895], [0.1896], marker='o', markersize=5, color=\"blue\")\n",
    "ax.text(0.3, 0.1, \"$(0.2895, \\, 0.1896)$\", family=\"sans-serif\", size=15)\n",
    "\n",
    "ax.fill_between(ρ_σ_grid, δ_thresh, color='lightyellow')\n",
    "\n",
    "ax.legend(fontsize=15)\n",
    "\n",
    "plt.savefig('sv_stb.pdf')\n",
    "\n",
    "plt.show()"
   ]
  },
  {
   "cell_type": "code",
   "execution_count": null,
   "metadata": {},
   "outputs": [],
   "source": []
  },
  {
   "cell_type": "code",
   "execution_count": 14,
   "metadata": {},
   "outputs": [
    {
     "name": "stderr",
     "output_type": "stream",
     "text": [
      "C:\\Users\\Public\\software\\Anaconda3\\lib\\site-packages\\ipykernel_launcher.py:10: RuntimeWarning: invalid value encountered in greater\n",
      "  # Remove the CWD from sys.path while we load stuff.\n"
     ]
    },
    {
     "data": {
      "image/png": "[encoded data removed]",
      "text/plain": [
       "<Figure size 720x432 with 2 Axes>"
      ]
     },
     "metadata": {
      "needs_background": "light"
     },
     "output_type": "display_data"
    }
   ],
   "source": [
    "# ------------------------------------- #\n",
    "#     make contour plot of G_R\n",
    "# ------------------------------------- #\n",
    "fig, ax = plt.subplots(figsize=(10,6))\n",
    "\n",
    "X1, Y1 = np.meshgrid(ρ_σ_grid, δ_σ_grid)\n",
    "\n",
    "# hide high values in GR_matrix \n",
    "Z1 = GR_matrix\n",
    "Z1[Z1 > 1.2] = np.nan\n",
    "\n",
    "β = IFP_StochasticVolatility().β\n",
    "\n",
    "CS1_f = ax.contourf(X1, Y1, β*Z1.T, alpha=0.4)\n",
    "plt.colorbar(CS1_f, ax=ax)\n",
    "\n",
    "levels=[1.00]\n",
    "\n",
    "CS1 = ax.contour(X1, Y1, β*Z1.T, colors='k', levels=levels)\n",
    "ax.clabel(CS1, inline=1, fontsize=15, fmt=\"%1.2f\")\n",
    "\n",
    "ax.plot([0.2895], [0.1896], marker='o', markersize=5, color=\"black\")\n",
    "ax.text(0.3, 0.1, \"$(0.2895, \\, 0.1896)$\", family=\"sans-serif\", size=15)\n",
    "\n",
    "ax.set_xlabel(\"$\\\\rho_\\sigma$\", fontsize=20)\n",
    "ax.set_ylabel(\"$\\delta_\\sigma$\", fontsize=20)\n",
    "\n",
    "plt.xticks([0.0,0.2,0.4,0.6,0.8,1.0], fontsize=15)\n",
    "plt.yticks([0.0,0.2,0.4,0.6,0.8,1.0,1.2,1.4], fontsize=15)\n",
    "\n",
    "plt.savefig('sv_gr.pdf')\n",
    "\n",
    "plt.show()"
   ]
  },
  {
   "cell_type": "code",
   "execution_count": null,
   "metadata": {},
   "outputs": [],
   "source": []
  },
  {
   "cell_type": "markdown",
   "metadata": {},
   "source": [
    "## Model II: Constant $\\{ \\sigma_t \\}$ Process\n",
    "\n",
    "The model reduces to:\n",
    "\n",
    "> $\\log R_t = \\mu_t + \\sigma \\zeta_t$, \n",
    "$(\\zeta_t) \\overset{iid}{\\sim} N(0,1)$ <br>\n",
    "> $\\mu_t = \\bar{\\mu} (1 - \\rho_\\mu) + \\rho_\\mu \\mu_{t-1} \n",
    "    + \\upsilon_t^\\mu$, \n",
    "  $\\, (\\upsilon_t^\\mu) \\overset{iid}{\\sim} N(0, \\delta_\\mu^2)$\n",
    "  \n",
    "- $\\sigma = e^{\\bar \\sigma + \\delta_\\sigma^2 / 2(1 - \\rho_\\sigma^2)}$: \n",
    "the stationary mean of the AR(1) process $\\{\\sigma_t\\}$"
   ]
  },
  {
   "cell_type": "code",
   "execution_count": null,
   "metadata": {},
   "outputs": [],
   "source": []
  },
  {
   "cell_type": "code",
   "execution_count": 15,
   "metadata": {},
   "outputs": [],
   "source": [
    "class IFP_MeanPersistence:\n",
    "    \"\"\"\n",
    "    Model II. Stochastic wealth returns with mean persistence.\n",
    "    \"\"\"\n",
    "    def __init__(self, β=0.95,  # the discount factor\n",
    "                 γ=1.5,         # the relative risk aversion coefficient\n",
    "                 σ=0.0393,      # standard deviation parameter related to {R_t}\n",
    "                 μ_bar=0.0281,  # stationary mean of the AR(1) process {μ_t}\n",
    "                 ρ_μ=0.5722,    # autoregressive coefficient of the AR(1) process {μ_t}\n",
    "                 δ_μ=0.0067,    # standard deviation of the {υμ_t} process\n",
    "                 M=5,           # number of states of the discretized {μ_t} process\n",
    "                 verbose=False):\n",
    "        self.β, self.γ, self.M, self.verbose = β, γ, M, verbose\n",
    "        self.σ, self.μ_bar, self.ρ_μ, self.δ_μ = σ, μ_bar, ρ_μ, δ_μ\n",
    "        \n",
    "        # discretize {μ_t} process\n",
    "        #self.Z_μ, self.P_μ = tauchen(self.μ_bar*(1-self.ρ_μ), self.ρ_μ, self.δ_μ, N=self.M)\n",
    "        mc = qe.rouwenhorst(M, μ_bar*(1-ρ_μ), δ_μ, ρ_μ)\n",
    "        self.Z_μ, self.P_μ = mc.state_values, mc.P\n",
    "\n",
    "    def stability_test(self):\n",
    "        \"\"\"\n",
    "        Stability test of the model economy.\n",
    "        \"\"\"\n",
    "        β, γ, M, verbose = self.β, self.γ, self.M, self.verbose\n",
    "        σ, Z_μ, P_μ = self.σ, self.Z_μ, self.P_μ\n",
    "        \n",
    "        # ===== long-run average growth rate of {R_t} ===== #\n",
    "        D_R = np.diag(np.exp(Z_μ + σ**2 / 2))\n",
    "        \n",
    "        if D_R.max() == np.inf:\n",
    "            G_R = np.nan\n",
    "        else:\n",
    "            L_R = np.matmul(P_μ, D_R)        # L_R = P D_R\n",
    "            G_R = max(np.abs(eig(L_R)[0]))   # G_R = r(L_R)\n",
    "            \n",
    "        # ============= stability test ============= # \n",
    "        D_σ = np.exp(σ**2 / 2.)\n",
    "        D_μ = np.diag(np.exp(Z_μ))\n",
    "        \n",
    "        V_σ = np.exp(((1. - γ)**2) * (σ**2) / 2.)\n",
    "        V_μ = np.exp((1. - γ) * Z_μ)\n",
    "        \n",
    "        if D_μ.max()==np.inf or V_μ.max()==np.inf:\n",
    "            lhs_cond1, lhs_cond2, lhs_cond3 = np.nan, np.nan, np.nan\n",
    "        else:\n",
    "            # r(P_R D_R) = r(P_μ D_μ) r(P_σ D_σ)\n",
    "            spec_rad = D_σ * max(eig(np.matmul(P_μ, D_μ))[0])\n",
    "            # β r(P_μ D_μ) r(P_σ D_σ) \n",
    "            lhs_cond1 = β * spec_rad\n",
    "            # κ := β \\|P_μ V_μ \\| \\|P_σ V_σ\\|\n",
    "            lhs_cond2 = β * V_σ * max(np.matmul(P_μ, V_μ))\n",
    "            # r(P_μ D_μ) r(P_σ D_σ) κ^{1/γ}\n",
    "            lhs_cond3 = spec_rad * (lhs_cond2**(1/γ))\n",
    "        \n",
    "        # sufficient conditions for stability \n",
    "        cond1 = (lhs_cond1 < 1.)\n",
    "        cond2 = (lhs_cond2 < 1.)\n",
    "        cond3 = (lhs_cond3 < 1.)\n",
    "        stability = (cond1 and cond2 and cond3)\n",
    "        \n",
    "        if verbose:\n",
    "            if cond1 and cond2 and cond3:\n",
    "                print(\"\")\n",
    "                print(\"Stability conditions are verified!\")\n",
    "                print(\"\")\n",
    "                print(\"Ready for the next step!\")\n",
    "                print(\"\")\n",
    "            else:\n",
    "                print(\"\")\n",
    "                print(\"Error!!!\")\n",
    "                print(\"\")\n",
    "                print(\"Stability conditions are violated!\")\n",
    "                print(\"\")\n",
    "                print(\"Adjust parameter values!\")\n",
    "                print(\"\")\n",
    "            print(\"------------------------------------\")\n",
    "            print(\"G_R = \", G_R)\n",
    "            print(\"\")\n",
    "            print(\"Condition 1: \", lhs_cond1)\n",
    "            print(\"\")\n",
    "            print(\"Condition 2: \", lhs_cond2)\n",
    "            print(\"\")\n",
    "            print(\"Condition 3: \", lhs_cond3)\n",
    "            print(\"------------------------------------\")\n",
    "            print(\"\")\n",
    "                \n",
    "        return G_R, stability"
   ]
  },
  {
   "cell_type": "code",
   "execution_count": null,
   "metadata": {},
   "outputs": [],
   "source": []
  },
  {
   "cell_type": "code",
   "execution_count": 16,
   "metadata": {},
   "outputs": [],
   "source": [
    "# stability range\n",
    "def stability_range_mp(ρ_μ_min=0.0,    # grid point of minimum ρ_μ value\n",
    "                       ρ_μ_max=0.99,   # grid point of maximum ρ_μ value\n",
    "                       ρ_μ_size=50,    # size of grid points for ρ_μ \n",
    "                       δ_μ_min=1e-3,   # grid point of minimum δ_μ value\n",
    "                       δ_μ_max=0.14,   # grid point of minimum δ_μ value\n",
    "                       δ_μ_size=50):   # size of grid points for δ_μ \n",
    "    \n",
    "    ρ_μ_grid = np.linspace(ρ_μ_min, ρ_μ_max, ρ_μ_size)  # grid points for ρ_μ\n",
    "    δ_μ_grid = np.linspace(δ_μ_min, δ_μ_max, δ_μ_size)  # grid points for δ_μ\n",
    "    \n",
    "    info_matrix = np.empty((ρ_μ_size, δ_μ_size))  # create empty matrix to store stability test results\n",
    "    GR_matrix = np.empty((ρ_μ_size, δ_μ_size))    # create empty matrix to store G_R values\n",
    "    \n",
    "    for (i_ρ, ρ) in enumerate(ρ_μ_grid):\n",
    "        for (i_δ, δ) in enumerate(δ_μ_grid):\n",
    "            ifp_mp = IFP_MeanPersistence(ρ_μ=ρ, δ_μ=δ)\n",
    "            GR_matrix[i_ρ, i_δ], info_matrix[i_ρ, i_δ] = ifp_mp.stability_test()\n",
    "    \n",
    "    return GR_matrix, info_matrix, ρ_μ_grid, δ_μ_grid\n",
    "\n",
    "GR_matrix_mp, info_matrix_mp, ρ_μ_grid, δ_μ_grid = stability_range_mp(ρ_μ_size=100, δ_μ_size=100)"
   ]
  },
  {
   "cell_type": "code",
   "execution_count": null,
   "metadata": {},
   "outputs": [],
   "source": []
  },
  {
   "cell_type": "code",
   "execution_count": 17,
   "metadata": {},
   "outputs": [
    {
     "data": {
      "image/png": "[encoded data removed]",
      "text/plain": [
       "<Figure size 576x432 with 1 Axes>"
      ]
     },
     "metadata": {
      "needs_background": "light"
     },
     "output_type": "display_data"
    }
   ],
   "source": [
    "# find the threshold of stability range\n",
    "idx = np.minimum(np.sum(info_matrix_mp, axis=1), len(δ_μ_grid)-1)\n",
    "idx = idx.astype(int)       # threshold index on the δ_σ grid points\n",
    "δ_μ_thresh = δ_μ_grid[idx]  # threshold δ_σ values \n",
    "\n",
    "fig, ax = plt.subplots(figsize=(8,6))\n",
    "\n",
    "ax.plot(ρ_μ_grid, δ_μ_thresh, label='stability threshold', lw=2.5)\n",
    "\n",
    "ax.set_xlabel(r'$\\rho_\\mu$', size=20)\n",
    "ax.set_ylabel(r'$\\delta_\\mu$', size=20)\n",
    "ax.set_xlim((0.0, 1.0))\n",
    "ax.set_ylim((0.0, 0.14))\n",
    "#ax.set_title('Model 2: γ=%i' %γ, size=15)\n",
    "plt.xticks(fontsize=15)\n",
    "plt.yticks([0.02,0.04,0.06,0.08,0.10,0.12,0.14], fontsize=15)\n",
    "\n",
    "\n",
    "font = {'family': 'sans-serif',\n",
    "        'color':  'black',\n",
    "        'weight': 'normal',\n",
    "        'size': 20,\n",
    "        }\n",
    "\n",
    "ax.text(0.1, 0.03, 'stable', fontdict=font)\n",
    "#ax.text(0.3, 0.05, 'unstable', fontdict=font)\n",
    "\n",
    "ax.plot([0.5722], [0.0067], marker='o', markersize=5, color=\"blue\")\n",
    "ax.text(0.36, 0.01, \"$(0.5722, \\, 0.0067)$\", family=\"sans-serif\", size=15)\n",
    "\n",
    "ax.fill_between(ρ_μ_grid, δ_μ_thresh, color='lightyellow')\n",
    "\n",
    "ax.legend(fontsize=15)\n",
    "\n",
    "plt.savefig('mp_stb.pdf')\n",
    "\n",
    "plt.show()"
   ]
  },
  {
   "cell_type": "code",
   "execution_count": null,
   "metadata": {},
   "outputs": [],
   "source": []
  },
  {
   "cell_type": "code",
   "execution_count": 18,
   "metadata": {},
   "outputs": [
    {
     "data": {
      "image/png": "[encoded data removed]",
      "text/plain": [
       "<Figure size 720x432 with 2 Axes>"
      ]
     },
     "metadata": {
      "needs_background": "light"
     },
     "output_type": "display_data"
    }
   ],
   "source": [
    "# ------------------------------------- #\n",
    "#     make contour plot of G_R\n",
    "# ------------------------------------- #\n",
    "fig, ax = plt.subplots(figsize=(10,6))\n",
    "\n",
    "X2, Y2 = np.meshgrid(ρ_μ_grid, δ_μ_grid)\n",
    "\n",
    "# hide high values in GR_matrix \n",
    "Z2 = GR_matrix_mp\n",
    "Z2[Z2 > 1.5] = np.nan\n",
    "\n",
    "β = IFP_MeanPersistence().β\n",
    "\n",
    "CS2_f = ax.contourf(X2, Y2, β*Z2.T, alpha=0.4)\n",
    "plt.colorbar(CS2_f, ax=ax)\n",
    "\n",
    "levels = [1.0]\n",
    "\n",
    "CS2 = ax.contour(X2, Y2, β*Z2.T, colors='k', levels=levels)\n",
    "\n",
    "ax.clabel(CS2, inline=1, fontsize=15, fmt=\"%1.2f\")\n",
    "\n",
    "ax.plot([0.5722], [0.0067], marker='o', markersize=5, color=\"black\")\n",
    "ax.text(0.36, 0.011, \"$(0.5722, \\, 0.0067)$\", family=\"sans-serif\", size=15)\n",
    "\n",
    "ax.set_xlabel(\"$\\\\rho_\\mu$\", fontsize=20)\n",
    "ax.set_ylabel(\"$\\delta_\\mu$\", fontsize=20)\n",
    "\n",
    "plt.xticks([0.0,0.2,0.4,0.6,0.8,1.0], fontsize=15)\n",
    "plt.yticks(fontsize=15)\n",
    "\n",
    "plt.savefig('mp_gr.pdf')\n",
    "\n",
    "plt.show()"
   ]
  },
  {
   "cell_type": "code",
   "execution_count": null,
   "metadata": {},
   "outputs": [],
   "source": []
  }
 ],
 "metadata": {
  "kernelspec": {
   "display_name": "Python 3",
   "language": "python",
   "name": "python3"
  },
  "language_info": {
   "codemirror_mode": {
    "name": "ipython",
    "version": 3
   },
   "file_extension": ".py",
   "mimetype": "text/x-python",
   "name": "python",
   "nbconvert_exporter": "python",
   "pygments_lexer": "ipython3",
   "version": "3.6.8"
  }
 },
 "nbformat": 4,
 "nbformat_minor": 2
}
